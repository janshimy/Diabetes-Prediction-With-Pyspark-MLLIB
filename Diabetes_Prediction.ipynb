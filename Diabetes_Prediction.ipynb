{
 "cells": [
  {
   "cell_type": "markdown",
   "metadata": {
    "id": "Snq4iq_JOB4T"
   },
   "source": [
    "# PART 1 : Install Dependencies & Run Spark Session"
   ]
  },
  {
   "cell_type": "code",
   "execution_count": null,
   "metadata": {
    "colab": {
     "base_uri": "https://localhost:8080/"
    },
    "id": "NpCRBcqtN5lH",
    "outputId": "56468c7e-d6b4-4437-e5c7-4dea959e4771"
   },
   "outputs": [
    {
     "name": "stdout",
     "output_type": "stream",
     "text": [
      "Requirement already satisfied: pyspark in /usr/local/lib/python3.6/dist-packages (3.0.1)\n",
      "Requirement already satisfied: py4j==0.10.9 in /usr/local/lib/python3.6/dist-packages (from pyspark) (0.10.9)\n"
     ]
    }
   ],
   "source": [
    "#install pyspark\n",
    "! pip install pyspark\n"
   ]
  },
  {
   "cell_type": "code",
   "execution_count": 1,
   "metadata": {},
   "outputs": [],
   "source": [
    "#create a sparksession\n",
    "from pyspark.sql import SparkSession\n",
    "spark = SparkSession.builder.appName(\"spark\").getOrCreate()"
   ]
  },
  {
   "cell_type": "code",
   "execution_count": null,
   "metadata": {
    "id": "GNZoOuDqOdxX"
   },
   "outputs": [],
   "source": [
    "#create a sparksession\n",
    "from pyspark.sql import SparkSession\n",
    "spark = SparkSession.builder.appName(\"spark\").getOrCreate()"
   ]
  },
  {
   "cell_type": "markdown",
   "metadata": {
    "id": "5sG3MLXlOews"
   },
   "source": [
    "# PART 2: Clone & Explore dataset"
   ]
  },
  {
   "cell_type": "code",
   "execution_count": 2,
   "metadata": {
    "colab": {
     "base_uri": "https://localhost:8080/"
    },
    "id": "-Uh5H7_KOoSL",
    "outputId": "7643547d-8254-47b6-f7ae-dc7ef3b9f8e2"
   },
   "outputs": [
    {
     "name": "stdout",
     "output_type": "stream",
     "text": [
      "Cloning into 'diabetes_dataset'...\n",
      "remote: Enumerating objects: 6, done.\u001b[K\n",
      "remote: Counting objects: 100% (6/6), done.\u001b[K\n",
      "remote: Compressing objects: 100% (5/5), done.\u001b[K\n",
      "remote: Total 6 (delta 0), reused 0 (delta 0), pack-reused 0 (from 0)\u001b[K\n",
      "Unpacking objects: 100% (6/6), 13.00 KiB | 6.50 MiB/s, done.\n"
     ]
    }
   ],
   "source": [
    "#clone the diabetes dataset from the github repository\n",
    "! git clone https://github.com/education454/diabetes_dataset"
   ]
  },
  {
   "cell_type": "code",
   "execution_count": 3,
   "metadata": {
    "colab": {
     "base_uri": "https://localhost:8080/"
    },
    "id": "VcqwJRxVOutr",
    "outputId": "bceb1cfe-d04f-4c7d-9988-45d4847b1416"
   },
   "outputs": [
    {
     "name": "stdout",
     "output_type": "stream",
     "text": [
      "diabetes.csv  new_test.csv\n"
     ]
    }
   ],
   "source": [
    "#check if the dataset exists\n",
    "! ls diabetes_dataset"
   ]
  },
  {
   "cell_type": "code",
   "execution_count": 5,
   "metadata": {
    "id": "ST1rFFOlOu8s"
   },
   "outputs": [],
   "source": [
    "#create spark dataframe\n",
    "df = spark.read.csv(\"./diabetes_dataset/diabetes.csv\", header=True, inferSchema=True)"
   ]
  },
  {
   "cell_type": "code",
   "execution_count": null,
   "metadata": {
    "colab": {
     "base_uri": "https://localhost:8080/"
    },
    "id": "IiJm-pmROvKd",
    "outputId": "822bf6c6-de67-4418-c1b2-aefb9ce8c26f"
   },
   "outputs": [
    {
     "name": "stdout",
     "output_type": "stream",
     "text": [
      "+-----------+-------+-------------+-------------+-------+----+------------------------+---+-------+\n",
      "|Pregnancies|Glucose|BloodPressure|SkinThickness|Insulin| BMI|DiabetesPedigreeFunction|Age|Outcome|\n",
      "+-----------+-------+-------------+-------------+-------+----+------------------------+---+-------+\n",
      "|          2|    138|           62|           35|      0|33.6|                   0.127| 47|      1|\n",
      "|          0|     84|           82|           31|    125|38.2|                   0.233| 23|      0|\n",
      "|          0|    145|            0|            0|      0|44.2|                    0.63| 31|      1|\n",
      "|          0|    135|           68|           42|    250|42.3|                   0.365| 24|      1|\n",
      "|          1|    139|           62|           41|    480|40.7|                   0.536| 21|      0|\n",
      "|          0|    173|           78|           32|    265|46.5|                   1.159| 58|      0|\n",
      "|          4|     99|           72|           17|      0|25.6|                   0.294| 28|      0|\n",
      "|          8|    194|           80|            0|      0|26.1|                   0.551| 67|      0|\n",
      "|          2|     83|           65|           28|     66|36.8|                   0.629| 24|      0|\n",
      "|          2|     89|           90|           30|      0|33.5|                   0.292| 42|      0|\n",
      "|          4|     99|           68|           38|      0|32.8|                   0.145| 33|      0|\n",
      "|          4|    125|           70|           18|    122|28.9|                   1.144| 45|      1|\n",
      "|          3|     80|            0|            0|      0| 0.0|                   0.174| 22|      0|\n",
      "|          6|    166|           74|            0|      0|26.6|                   0.304| 66|      0|\n",
      "|          5|    110|           68|            0|      0|26.0|                   0.292| 30|      0|\n",
      "|          2|     81|           72|           15|     76|30.1|                   0.547| 25|      0|\n",
      "|          7|    195|           70|           33|    145|25.1|                   0.163| 55|      1|\n",
      "|          6|    154|           74|           32|    193|29.3|                   0.839| 39|      0|\n",
      "|          2|    117|           90|           19|     71|25.2|                   0.313| 21|      0|\n",
      "|          3|     84|           72|           32|      0|37.2|                   0.267| 28|      0|\n",
      "+-----------+-------+-------------+-------------+-------+----+------------------------+---+-------+\n",
      "only showing top 20 rows\n",
      "\n"
     ]
    }
   ],
   "source": [
    "#display the dataframe\n",
    "df.show()"
   ]
  },
  {
   "cell_type": "code",
   "execution_count": 8,
   "metadata": {
    "colab": {
     "base_uri": "https://localhost:8080/"
    },
    "id": "Ulqkuz8aOvV6",
    "outputId": "ce50028d-0991-42b1-b3d0-8bc31498eaf8"
   },
   "outputs": [
    {
     "name": "stdout",
     "output_type": "stream",
     "text": [
      "root\n",
      " |-- Pregnancies: integer (nullable = true)\n",
      " |-- Glucose: integer (nullable = true)\n",
      " |-- BloodPressure: integer (nullable = true)\n",
      " |-- SkinThickness: integer (nullable = true)\n",
      " |-- Insulin: integer (nullable = true)\n",
      " |-- BMI: double (nullable = true)\n",
      " |-- DiabetesPedigreeFunction: double (nullable = true)\n",
      " |-- Age: integer (nullable = true)\n",
      " |-- Outcome: integer (nullable = true)\n",
      "\n"
     ]
    }
   ],
   "source": [
    "#print the schema\n",
    "df.printSchema()"
   ]
  },
  {
   "cell_type": "code",
   "execution_count": 9,
   "metadata": {
    "colab": {
     "base_uri": "https://localhost:8080/"
    },
    "id": "kpZlF2S2Ovgw",
    "outputId": "6dcf94ff-56ac-4163-9d3f-d1f78bd143ad"
   },
   "outputs": [
    {
     "name": "stdout",
     "output_type": "stream",
     "text": [
      "(2000, 9)\n",
      "+-------+-----+\n",
      "|Outcome|count|\n",
      "+-------+-----+\n",
      "|      1|  684|\n",
      "|      0| 1316|\n",
      "+-------+-----+\n",
      "\n"
     ]
    }
   ],
   "source": [
    "#count the total no. of diabetic and non-diabetic class\n",
    "print((df.count(), len(df.columns)))\n",
    "df.groupBy('Outcome').count().show()"
   ]
  },
  {
   "cell_type": "code",
   "execution_count": null,
   "metadata": {
    "colab": {
     "base_uri": "https://localhost:8080/"
    },
    "id": "NewCNZEMOvtM",
    "outputId": "60681a6a-1387-44ca-f545-aa953a07cd4a"
   },
   "outputs": [
    {
     "name": "stdout",
     "output_type": "stream",
     "text": [
      "+-------+-----------------+------------------+------------------+-----------------+-----------------+------------------+------------------------+------------------+------------------+\n",
      "|summary|      Pregnancies|           Glucose|     BloodPressure|    SkinThickness|          Insulin|               BMI|DiabetesPedigreeFunction|               Age|           Outcome|\n",
      "+-------+-----------------+------------------+------------------+-----------------+-----------------+------------------+------------------------+------------------+------------------+\n",
      "|  count|             2000|              2000|              2000|             2000|             2000|              2000|                    2000|              2000|              2000|\n",
      "|   mean|           3.7035|          121.1825|           69.1455|           20.935|           80.254|32.192999999999984|     0.47092999999999974|           33.0905|             0.342|\n",
      "| stddev|3.306063032730656|32.068635649902916|19.188314815604098|16.10324290992682|111.1805335457595| 8.149900701279762|      0.3235525586811429|11.786423106049496|0.4744982342297426|\n",
      "|    min|                0|                 0|                 0|                0|                0|               0.0|                   0.078|                21|                 0|\n",
      "|    max|               17|               199|               122|              110|              744|              80.6|                    2.42|                81|                 1|\n",
      "+-------+-----------------+------------------+------------------+-----------------+-----------------+------------------+------------------------+------------------+------------------+\n",
      "\n"
     ]
    }
   ],
   "source": [
    "#get the summary statistics\n",
    "df.describe().show()"
   ]
  },
  {
   "cell_type": "markdown",
   "metadata": {
    "id": "gZerPOR-OyjQ"
   },
   "source": [
    "# PART 3: Data Cleaning & Preparation"
   ]
  },
  {
   "cell_type": "code",
   "execution_count": null,
   "metadata": {
    "colab": {
     "base_uri": "https://localhost:8080/"
    },
    "id": "Q-KkJvV_PFFU",
    "outputId": "706e1e11-405e-4072-ed15-663d90496bc4"
   },
   "outputs": [
    {
     "name": "stdout",
     "output_type": "stream",
     "text": [
      "Pregnancies: 0\n",
      "Glucose: 0\n",
      "BloodPressure: 0\n",
      "SkinThickness: 0\n",
      "Insulin: 0\n",
      "BMI: 0\n",
      "DiabetesPedigreeFunction: 0\n",
      "Age: 0\n",
      "Outcome: 0\n"
     ]
    }
   ],
   "source": [
    "#check for null values\n",
    "for col in df.columns:\n",
    "  print(col+\":\",df[df[col].isNull()].count())"
   ]
  },
  {
   "cell_type": "code",
   "execution_count": null,
   "metadata": {
    "id": "ZJsbgwZMPFQC"
   },
   "outputs": [],
   "source": [
    "#look for the unnecessary values present\n",
    "def count_zeros():\n",
    "  columns_list = [\"Glucose\", \"BloodPressure\", \"SkinThickness\", \"Insulin\", \"BMI\"]\n",
    "  for i in columns_list:\n",
    "    print(i+\":\",df[df[i]==0].count())"
   ]
  },
  {
   "cell_type": "code",
   "execution_count": null,
   "metadata": {
    "colab": {
     "base_uri": "https://localhost:8080/"
    },
    "id": "pcXTErb9PFbo",
    "outputId": "c0e1b716-b8e6-4be1-c056-8a545b666438"
   },
   "outputs": [
    {
     "name": "stdout",
     "output_type": "stream",
     "text": [
      "Glucose: 13\n",
      "BloodPressure: 90\n",
      "SkinThickness: 573\n",
      "Insulin: 956\n",
      "BMI: 28\n"
     ]
    }
   ],
   "source": [
    "count_zeros()"
   ]
  },
  {
   "cell_type": "code",
   "execution_count": null,
   "metadata": {
    "colab": {
     "base_uri": "https://localhost:8080/"
    },
    "id": "VXemdtaPPFmA",
    "outputId": "fe9fb35d-f124-4d7d-a4cc-21604a11ae22"
   },
   "outputs": [
    {
     "name": "stdout",
     "output_type": "stream",
     "text": [
      "mean value for Glucose is 121\n",
      "mean value for BloodPressure is 69\n",
      "mean value for SkinThickness is 20\n",
      "mean value for Insulin is 80\n",
      "mean value for BMI is 32\n"
     ]
    }
   ],
   "source": [
    "#calculate and replace the unnecessary values by the mean value\n",
    "from pyspark.sql.functions import *\n",
    "\n",
    "for i in df.columns[1:6]:\n",
    "  data = df.agg({i:\"mean\"}).first()[0]\n",
    "  print(\"mean value for {} is {}\".format(i,int(data)))\n",
    "  df = df.withColumn(i, when(df[i]==0, int(data)).otherwise(df[i]))"
   ]
  },
  {
   "cell_type": "code",
   "execution_count": null,
   "metadata": {
    "colab": {
     "base_uri": "https://localhost:8080/"
    },
    "id": "C0bk0Ps_PFwk",
    "outputId": "3c13784a-d000-4418-92a2-311b1114420a"
   },
   "outputs": [
    {
     "name": "stdout",
     "output_type": "stream",
     "text": [
      "+-----------+-------+-------------+-------------+-------+----+------------------------+---+-------+\n",
      "|Pregnancies|Glucose|BloodPressure|SkinThickness|Insulin| BMI|DiabetesPedigreeFunction|Age|Outcome|\n",
      "+-----------+-------+-------------+-------------+-------+----+------------------------+---+-------+\n",
      "|          2|    138|           62|           35|     80|33.6|                   0.127| 47|      1|\n",
      "|          0|     84|           82|           31|    125|38.2|                   0.233| 23|      0|\n",
      "|          0|    145|           69|           20|     80|44.2|                    0.63| 31|      1|\n",
      "|          0|    135|           68|           42|    250|42.3|                   0.365| 24|      1|\n",
      "|          1|    139|           62|           41|    480|40.7|                   0.536| 21|      0|\n",
      "|          0|    173|           78|           32|    265|46.5|                   1.159| 58|      0|\n",
      "|          4|     99|           72|           17|     80|25.6|                   0.294| 28|      0|\n",
      "|          8|    194|           80|           20|     80|26.1|                   0.551| 67|      0|\n",
      "|          2|     83|           65|           28|     66|36.8|                   0.629| 24|      0|\n",
      "|          2|     89|           90|           30|     80|33.5|                   0.292| 42|      0|\n",
      "|          4|     99|           68|           38|     80|32.8|                   0.145| 33|      0|\n",
      "|          4|    125|           70|           18|    122|28.9|                   1.144| 45|      1|\n",
      "|          3|     80|           69|           20|     80|32.0|                   0.174| 22|      0|\n",
      "|          6|    166|           74|           20|     80|26.6|                   0.304| 66|      0|\n",
      "|          5|    110|           68|           20|     80|26.0|                   0.292| 30|      0|\n",
      "|          2|     81|           72|           15|     76|30.1|                   0.547| 25|      0|\n",
      "|          7|    195|           70|           33|    145|25.1|                   0.163| 55|      1|\n",
      "|          6|    154|           74|           32|    193|29.3|                   0.839| 39|      0|\n",
      "|          2|    117|           90|           19|     71|25.2|                   0.313| 21|      0|\n",
      "|          3|     84|           72|           32|     80|37.2|                   0.267| 28|      0|\n",
      "+-----------+-------+-------------+-------------+-------+----+------------------------+---+-------+\n",
      "only showing top 20 rows\n",
      "\n"
     ]
    }
   ],
   "source": [
    "#display the dataframe \n",
    "df.show()"
   ]
  },
  {
   "cell_type": "markdown",
   "metadata": {
    "id": "LOgSTdBpPs7G"
   },
   "source": [
    "# PART 4: Correlation Analysis & Feature Selection"
   ]
  },
  {
   "cell_type": "code",
   "execution_count": null,
   "metadata": {
    "colab": {
     "base_uri": "https://localhost:8080/"
    },
    "id": "7Eq6jdcFP_3C",
    "outputId": "948967a0-2a70-4de5-82e1-f7451c072886"
   },
   "outputs": [
    {
     "name": "stdout",
     "output_type": "stream",
     "text": [
      "Correlation to outcome for Pregnancies is 0.22443699263363961\n",
      "Correlation to outcome for Glucose is 0.48796646527321064\n",
      "Correlation to outcome for BloodPressure is 0.17171333286446713\n",
      "Correlation to outcome for SkinThickness is 0.1659010662889893\n",
      "Correlation to outcome for Insulin is 0.1711763270226193\n",
      "Correlation to outcome for BMI is 0.2827927569760082\n",
      "Correlation to outcome for DiabetesPedigreeFunction is 0.1554590791569403\n",
      "Correlation to outcome for Age is 0.23650924717620253\n",
      "Correlation to outcome for Outcome is 1.0\n"
     ]
    }
   ],
   "source": [
    "#find the correlation among the set of input & output variables\n",
    "for i in df.columns:\n",
    "  print(\"Correlation to outcome for {} is {}\".format(i, df.stat.corr(\"Outcome\",i)))"
   ]
  },
  {
   "cell_type": "code",
   "execution_count": null,
   "metadata": {
    "id": "Fl7Edj-OQACn"
   },
   "outputs": [],
   "source": [
    "#feature selection\n",
    "from pyspark.ml.feature import VectorAssembler\n",
    "\n",
    "assembler = VectorAssembler(inputCols = ['Pregnancies', 'Glucose', 'BloodPressure', 'SkinThickness',\n",
    "                                         'Insulin', 'BMI', 'DiabetesPedigreeFunction', 'Age'], outputCol='features')\n",
    "output_data = assembler.transform(df)"
   ]
  },
  {
   "cell_type": "code",
   "execution_count": null,
   "metadata": {
    "colab": {
     "base_uri": "https://localhost:8080/"
    },
    "id": "mJKrfqdaQAOy",
    "outputId": "9cc62903-b5a6-4c40-a6e7-da6b5ea8f035"
   },
   "outputs": [
    {
     "name": "stdout",
     "output_type": "stream",
     "text": [
      "root\n",
      " |-- Pregnancies: integer (nullable = true)\n",
      " |-- Glucose: integer (nullable = true)\n",
      " |-- BloodPressure: integer (nullable = true)\n",
      " |-- SkinThickness: integer (nullable = true)\n",
      " |-- Insulin: integer (nullable = true)\n",
      " |-- BMI: double (nullable = true)\n",
      " |-- DiabetesPedigreeFunction: double (nullable = true)\n",
      " |-- Age: integer (nullable = true)\n",
      " |-- Outcome: integer (nullable = true)\n",
      " |-- features: vector (nullable = true)\n",
      "\n"
     ]
    }
   ],
   "source": [
    "#print the schema\n",
    "output_data.printSchema()"
   ]
  },
  {
   "cell_type": "code",
   "execution_count": null,
   "metadata": {
    "colab": {
     "base_uri": "https://localhost:8080/"
    },
    "id": "FURl7qESQAaQ",
    "outputId": "55dc2dff-6a52-47c3-b54b-d335bb9141fe"
   },
   "outputs": [
    {
     "name": "stdout",
     "output_type": "stream",
     "text": [
      "+-----------+-------+-------------+-------------+-------+----+------------------------+---+-------+--------------------+\n",
      "|Pregnancies|Glucose|BloodPressure|SkinThickness|Insulin| BMI|DiabetesPedigreeFunction|Age|Outcome|            features|\n",
      "+-----------+-------+-------------+-------------+-------+----+------------------------+---+-------+--------------------+\n",
      "|          2|    138|           62|           35|     80|33.6|                   0.127| 47|      1|[2.0,138.0,62.0,3...|\n",
      "|          0|     84|           82|           31|    125|38.2|                   0.233| 23|      0|[0.0,84.0,82.0,31...|\n",
      "|          0|    145|           69|           20|     80|44.2|                    0.63| 31|      1|[0.0,145.0,69.0,2...|\n",
      "|          0|    135|           68|           42|    250|42.3|                   0.365| 24|      1|[0.0,135.0,68.0,4...|\n",
      "|          1|    139|           62|           41|    480|40.7|                   0.536| 21|      0|[1.0,139.0,62.0,4...|\n",
      "|          0|    173|           78|           32|    265|46.5|                   1.159| 58|      0|[0.0,173.0,78.0,3...|\n",
      "|          4|     99|           72|           17|     80|25.6|                   0.294| 28|      0|[4.0,99.0,72.0,17...|\n",
      "|          8|    194|           80|           20|     80|26.1|                   0.551| 67|      0|[8.0,194.0,80.0,2...|\n",
      "|          2|     83|           65|           28|     66|36.8|                   0.629| 24|      0|[2.0,83.0,65.0,28...|\n",
      "|          2|     89|           90|           30|     80|33.5|                   0.292| 42|      0|[2.0,89.0,90.0,30...|\n",
      "|          4|     99|           68|           38|     80|32.8|                   0.145| 33|      0|[4.0,99.0,68.0,38...|\n",
      "|          4|    125|           70|           18|    122|28.9|                   1.144| 45|      1|[4.0,125.0,70.0,1...|\n",
      "|          3|     80|           69|           20|     80|32.0|                   0.174| 22|      0|[3.0,80.0,69.0,20...|\n",
      "|          6|    166|           74|           20|     80|26.6|                   0.304| 66|      0|[6.0,166.0,74.0,2...|\n",
      "|          5|    110|           68|           20|     80|26.0|                   0.292| 30|      0|[5.0,110.0,68.0,2...|\n",
      "|          2|     81|           72|           15|     76|30.1|                   0.547| 25|      0|[2.0,81.0,72.0,15...|\n",
      "|          7|    195|           70|           33|    145|25.1|                   0.163| 55|      1|[7.0,195.0,70.0,3...|\n",
      "|          6|    154|           74|           32|    193|29.3|                   0.839| 39|      0|[6.0,154.0,74.0,3...|\n",
      "|          2|    117|           90|           19|     71|25.2|                   0.313| 21|      0|[2.0,117.0,90.0,1...|\n",
      "|          3|     84|           72|           32|     80|37.2|                   0.267| 28|      0|[3.0,84.0,72.0,32...|\n",
      "+-----------+-------+-------------+-------------+-------+----+------------------------+---+-------+--------------------+\n",
      "only showing top 20 rows\n",
      "\n"
     ]
    }
   ],
   "source": [
    "#display dataframe\n",
    "output_data.show()"
   ]
  },
  {
   "cell_type": "markdown",
   "metadata": {
    "id": "8fSjOdfyQA99"
   },
   "source": [
    "# PART 5: Split Dataset & Build the Model"
   ]
  },
  {
   "cell_type": "code",
   "execution_count": null,
   "metadata": {
    "id": "F89--FiVQQJn"
   },
   "outputs": [],
   "source": [
    "#create final data\n",
    "from pyspark.ml.classification import LogisticRegression\n",
    "\n",
    "final_data = output_data.select('features','Outcome')"
   ]
  },
  {
   "cell_type": "code",
   "execution_count": null,
   "metadata": {
    "colab": {
     "base_uri": "https://localhost:8080/"
    },
    "id": "cKpm5912Qji_",
    "outputId": "be1e8354-484a-4193-db8b-055226ebe5e4"
   },
   "outputs": [
    {
     "name": "stdout",
     "output_type": "stream",
     "text": [
      "root\n",
      " |-- features: vector (nullable = true)\n",
      " |-- Outcome: integer (nullable = true)\n",
      "\n"
     ]
    }
   ],
   "source": [
    "#print schema of final data\n",
    "final_data.printSchema()"
   ]
  },
  {
   "cell_type": "code",
   "execution_count": null,
   "metadata": {
    "id": "r_Nom7aZQjuN"
   },
   "outputs": [],
   "source": [
    "#split the dataset ; build the model\n",
    "train, test = final_data.randomSplit([0.7, 0.3])\n",
    "models = LogisticRegression(labelCol= 'Outcome')\n",
    "model = models.fit(train)"
   ]
  },
  {
   "cell_type": "code",
   "execution_count": null,
   "metadata": {
    "colab": {
     "base_uri": "https://localhost:8080/"
    },
    "id": "OljO2HcIQj7E",
    "outputId": "0803c395-981e-4233-e129-25e57c478745"
   },
   "outputs": [
    {
     "name": "stdout",
     "output_type": "stream",
     "text": [
      "+-------+-------------------+-------------------+\n",
      "|summary|            Outcome|         prediction|\n",
      "+-------+-------------------+-------------------+\n",
      "|  count|               1379|               1379|\n",
      "|   mean| 0.3546047860768673|0.27918781725888325|\n",
      "| stddev|0.47856693702516884| 0.4487627648611054|\n",
      "|    min|                0.0|                0.0|\n",
      "|    max|                1.0|                1.0|\n",
      "+-------+-------------------+-------------------+\n",
      "\n"
     ]
    }
   ],
   "source": [
    "#summary of the model\n",
    "summary = model.summary\n",
    "summary.predictions.describe().show()"
   ]
  },
  {
   "cell_type": "markdown",
   "metadata": {
    "id": "DfaD_vzfQkah"
   },
   "source": [
    "# PART 6: Evaluate and Save the Model"
   ]
  },
  {
   "cell_type": "code",
   "execution_count": null,
   "metadata": {
    "id": "CHC5Erq7Q4QN"
   },
   "outputs": [],
   "source": [
    "from pyspark.ml.evaluation import BinaryClassificationEvaluator\n",
    "\n",
    "predictions = model.evaluate(test)"
   ]
  },
  {
   "cell_type": "code",
   "execution_count": null,
   "metadata": {
    "colab": {
     "base_uri": "https://localhost:8080/"
    },
    "id": "UBltVqoNQ4cM",
    "outputId": "c37c1525-bcfe-437a-c16a-e441822664fd"
   },
   "outputs": [
    {
     "name": "stdout",
     "output_type": "stream",
     "text": [
      "+--------------------+-------+--------------------+--------------------+----------+\n",
      "|            features|Outcome|       rawPrediction|         probability|prediction|\n",
      "+--------------------+-------+--------------------+--------------------+----------+\n",
      "|[0.0,78.0,88.0,29...|      0|[2.84611185180785...|[0.94511735111799...|       0.0|\n",
      "|[0.0,84.0,64.0,22...|      0|[2.54536472180636...|[0.92726149468538...|       0.0|\n",
      "|[0.0,84.0,64.0,22...|      0|[2.54536472180636...|[0.92726149468538...|       0.0|\n",
      "|[0.0,84.0,64.0,22...|      0|[2.54536472180636...|[0.92726149468538...|       0.0|\n",
      "|[0.0,84.0,82.0,31...|      0|[2.75899381176307...|[0.94041928141183...|       0.0|\n",
      "|[0.0,84.0,82.0,31...|      0|[2.75899381176307...|[0.94041928141183...|       0.0|\n",
      "|[0.0,91.0,68.0,32...|      0|[2.23435218160408...|[0.90329221341233...|       0.0|\n",
      "|[0.0,93.0,60.0,20...|      0|[2.47125542248231...|[0.92210198955475...|       0.0|\n",
      "|[0.0,93.0,60.0,25...|      0|[2.84139297995549...|[0.94487206591462...|       0.0|\n",
      "|[0.0,93.0,100.0,3...|      0|[1.08124926474225...|[0.74673032228411...|       0.0|\n",
      "|[0.0,94.0,69.0,20...|      0|[2.74038415952459...|[0.93936798048228...|       0.0|\n",
      "|[0.0,94.0,70.0,27...|      0|[1.74928512106778...|[0.85186261215424...|       0.0|\n",
      "|[0.0,94.0,70.0,27...|      0|[1.74928512106778...|[0.85186261215424...|       0.0|\n",
      "|[0.0,95.0,64.0,39...|      0|[1.62324254629074...|[0.83524183124479...|       0.0|\n",
      "|[0.0,95.0,85.0,25...|      1|[2.25104674751033...|[0.90474078715345...|       0.0|\n",
      "|[0.0,95.0,85.0,25...|      1|[2.25104674751033...|[0.90474078715345...|       0.0|\n",
      "|[0.0,97.0,64.0,36...|      0|[1.94876935407774...|[0.87531239039094...|       0.0|\n",
      "|[0.0,98.0,82.0,15...|      0|[3.15583594694088...|[0.95913805950687...|       0.0|\n",
      "|[0.0,99.0,69.0,20...|      0|[3.17715630795419...|[0.95996552090734...|       0.0|\n",
      "|[0.0,99.0,69.0,20...|      0|[3.17715630795419...|[0.95996552090734...|       0.0|\n",
      "+--------------------+-------+--------------------+--------------------+----------+\n",
      "only showing top 20 rows\n",
      "\n"
     ]
    }
   ],
   "source": [
    "predictions.predictions.show(20)"
   ]
  },
  {
   "cell_type": "code",
   "execution_count": null,
   "metadata": {
    "colab": {
     "base_uri": "https://localhost:8080/"
    },
    "id": "A4BHCxCiQ4l-",
    "outputId": "a5fa5014-3c84-40a5-9390-2427e082a457"
   },
   "outputs": [
    {
     "data": {
      "text/plain": [
       "0.8138437462381126"
      ]
     },
     "execution_count": 25,
     "metadata": {
      "tags": []
     },
     "output_type": "execute_result"
    }
   ],
   "source": [
    "evaluator = BinaryClassificationEvaluator(rawPredictionCol= 'rawPrediction', labelCol='Outcome')\n",
    "evaluator.evaluate(model.transform(test))"
   ]
  },
  {
   "cell_type": "code",
   "execution_count": 27,
   "metadata": {
    "id": "ERpRUFOHQ4x5"
   },
   "outputs": [],
   "source": [
    "# save model\n",
    "model.save(\"'model\")"
   ]
  },
  {
   "cell_type": "code",
   "execution_count": 28,
   "metadata": {
    "id": "4zSA9_KCQ47W"
   },
   "outputs": [],
   "source": [
    "# load saved model back to the environment\n",
    "from pyspark.ml.classification import LogisticRegressionModel\n",
    "\n",
    "model = LogisticRegressionModel.load('model')"
   ]
  },
  {
   "cell_type": "markdown",
   "metadata": {
    "id": "Iznukr-xRANo"
   },
   "source": [
    "# PART 7: Prediction on New Data with the saved model"
   ]
  },
  {
   "cell_type": "code",
   "execution_count": 29,
   "metadata": {
    "id": "MBq2hq27RdHB"
   },
   "outputs": [],
   "source": [
    "#create a new spark dataframe\n",
    "test_df = spark.read.csv('/content/diabetes_dataset/new_test.csv', header=True, inferSchema=True)"
   ]
  },
  {
   "cell_type": "code",
   "execution_count": 31,
   "metadata": {
    "colab": {
     "base_uri": "https://localhost:8080/"
    },
    "id": "co8K0NZsRdQB",
    "outputId": "93cfd1d9-cd60-440f-ef92-ecdcffcec737"
   },
   "outputs": [
    {
     "name": "stdout",
     "output_type": "stream",
     "text": [
      "root\n",
      " |-- Pregnancies: integer (nullable = true)\n",
      " |-- Glucose: integer (nullable = true)\n",
      " |-- BloodPressure: integer (nullable = true)\n",
      " |-- SkinThickness: integer (nullable = true)\n",
      " |-- Insulin: integer (nullable = true)\n",
      " |-- BMI: double (nullable = true)\n",
      " |-- DiabetesPedigreeFunction: double (nullable = true)\n",
      " |-- Age: integer (nullable = true)\n",
      "\n"
     ]
    }
   ],
   "source": [
    "#print the schema\n",
    "test_df.printSchema()"
   ]
  },
  {
   "cell_type": "code",
   "execution_count": 32,
   "metadata": {
    "id": "J7jtGf4lRdaz"
   },
   "outputs": [],
   "source": [
    "#create an additional feature merged column \n",
    "test_data = assembler.transform(test_df)"
   ]
  },
  {
   "cell_type": "code",
   "execution_count": 33,
   "metadata": {
    "colab": {
     "base_uri": "https://localhost:8080/"
    },
    "id": "kd1glzOnRdkq",
    "outputId": "d9143386-a4ae-4bb1-9326-da23ce0a34c6"
   },
   "outputs": [
    {
     "name": "stdout",
     "output_type": "stream",
     "text": [
      "root\n",
      " |-- Pregnancies: integer (nullable = true)\n",
      " |-- Glucose: integer (nullable = true)\n",
      " |-- BloodPressure: integer (nullable = true)\n",
      " |-- SkinThickness: integer (nullable = true)\n",
      " |-- Insulin: integer (nullable = true)\n",
      " |-- BMI: double (nullable = true)\n",
      " |-- DiabetesPedigreeFunction: double (nullable = true)\n",
      " |-- Age: integer (nullable = true)\n",
      " |-- features: vector (nullable = true)\n",
      "\n"
     ]
    }
   ],
   "source": [
    "#print the schema\n",
    "test_data.printSchema()"
   ]
  },
  {
   "cell_type": "code",
   "execution_count": 34,
   "metadata": {
    "colab": {
     "base_uri": "https://localhost:8080/"
    },
    "id": "40Dck7K_Rdxh",
    "outputId": "8d4ce065-9136-47ad-9ce9-484ca2394888"
   },
   "outputs": [
    {
     "name": "stdout",
     "output_type": "stream",
     "text": [
      "root\n",
      " |-- Pregnancies: integer (nullable = true)\n",
      " |-- Glucose: integer (nullable = true)\n",
      " |-- BloodPressure: integer (nullable = true)\n",
      " |-- SkinThickness: integer (nullable = true)\n",
      " |-- Insulin: integer (nullable = true)\n",
      " |-- BMI: double (nullable = true)\n",
      " |-- DiabetesPedigreeFunction: double (nullable = true)\n",
      " |-- Age: integer (nullable = true)\n",
      " |-- features: vector (nullable = true)\n",
      " |-- rawPrediction: vector (nullable = true)\n",
      " |-- probability: vector (nullable = true)\n",
      " |-- prediction: double (nullable = false)\n",
      "\n"
     ]
    }
   ],
   "source": [
    "#use model to make predictions\n",
    "results = model.transform(test_data)\n",
    "results.printSchema()"
   ]
  },
  {
   "cell_type": "code",
   "execution_count": 35,
   "metadata": {
    "colab": {
     "base_uri": "https://localhost:8080/"
    },
    "id": "AHpfS2SjRd7s",
    "outputId": "3be1e1a7-bf76-4941-a7e5-4a92412603b7"
   },
   "outputs": [
    {
     "name": "stdout",
     "output_type": "stream",
     "text": [
      "+--------------------+----------+\n",
      "|            features|prediction|\n",
      "+--------------------+----------+\n",
      "|[1.0,190.0,78.0,3...|       1.0|\n",
      "|[0.0,80.0,84.0,36...|       0.0|\n",
      "|[2.0,138.0,82.0,4...|       1.0|\n",
      "|[1.0,110.0,63.0,4...|       1.0|\n",
      "+--------------------+----------+\n",
      "\n"
     ]
    }
   ],
   "source": [
    "#display the predictions\n",
    "results.select('features','prediction').show()"
   ]
  }
 ],
 "metadata": {
  "colab": {
   "collapsed_sections": [],
   "name": "Diabetes_Prediction.ipynb",
   "provenance": []
  },
  "kernelspec": {
   "display_name": "Python 3",
   "name": "python3"
  },
  "language_info": {
   "codemirror_mode": {
    "name": "ipython",
    "version": 3
   },
   "file_extension": ".py",
   "mimetype": "text/x-python",
   "name": "python",
   "nbconvert_exporter": "python",
   "pygments_lexer": "ipython3",
   "version": "3.8.10"
  }
 },
 "nbformat": 4,
 "nbformat_minor": 0
}
